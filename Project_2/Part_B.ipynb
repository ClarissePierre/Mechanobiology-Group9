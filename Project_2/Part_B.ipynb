{
 "cells": [
  {
   "cell_type": "code",
   "execution_count": 1,
   "metadata": {},
   "outputs": [
    {
     "name": "stdout",
     "output_type": "stream",
     "text": [
      "Intel MKL WARNING: Support of Intel(R) Streaming SIMD Extensions 4.2 (Intel(R) SSE4.2) enabled only processors has been deprecated. Intel oneAPI Math Kernel Library 2025.0 will require Intel(R) Advanced Vector Extensions (Intel(R) AVX) instructions.\n",
      "Intel MKL WARNING: Support of Intel(R) Streaming SIMD Extensions 4.2 (Intel(R) SSE4.2) enabled only processors has been deprecated. Intel oneAPI Math Kernel Library 2025.0 will require Intel(R) Advanced Vector Extensions (Intel(R) AVX) instructions.\n"
     ]
    }
   ],
   "source": [
    "# import all necessary libraries\n",
    "\n",
    "# for file handling\n",
    "import os\n",
    "import time\n",
    "import scipy\n",
    "import shutil\n",
    "# reading files under given folder\n",
    "import glob\n",
    "# progress bar\n",
    "import tqdm\n",
    "import numpy as np\n",
    "# plotting\n",
    "import matplotlib.pyplot as plt\n",
    "import matplotlib.image as mpimg\n",
    "from matplotlib import pyplot\n",
    "# imaging processing\n",
    "import skimage as ski\n",
    "# data processing and manipulation\n",
    "import pandas as pd\n",
    "import skimage as ski\n",
    "import tifffile\n",
    "from IPython.display import clear_output\n",
    "%matplotlib inline\n",
    "\n",
    "import trackpy as tp\n",
    "import seaborn as sns"
   ]
  },
  {
   "cell_type": "code",
   "execution_count": null,
   "metadata": {},
   "outputs": [],
   "source": [
    "#pd.read_excel('/Project_2/data/Dataset_PartB.xlsx',sheet_name=\"Run1\")"
   ]
  },
  {
   "cell_type": "code",
   "execution_count": 8,
   "metadata": {},
   "outputs": [],
   "source": [
    "run1=pd.read_excel('/Users/Clarisse/EPFL_MA1/Mechanobio/ME480-Project2/PartB/Dataset_PartB.xlsx',sheet_name=\"Run1\")\n",
    "run2=pd.read_excel('/Users/Clarisse/EPFL_MA1/Mechanobio/ME480-Project2/PartB/Dataset_PartB.xlsx',sheet_name=\"Run2\")\n",
    "run3=pd.read_excel('/Users/Clarisse/EPFL_MA1/Mechanobio/ME480-Project2/PartB/Dataset_PartB.xlsx',sheet_name=\"Run3\")\n",
    "run4=pd.read_excel('/Users/Clarisse/EPFL_MA1/Mechanobio/ME480-Project2/PartB/Dataset_PartB.xlsx',sheet_name=\"Run4\")\n",
    "run5=pd.read_excel('/Users/Clarisse/EPFL_MA1/Mechanobio/ME480-Project2/PartB/Dataset_PartB.xlsx',sheet_name=\"Run5\")\n",
    "run6=pd.read_excel('/Users/Clarisse/EPFL_MA1/Mechanobio/ME480-Project2/PartB/Dataset_PartB.xlsx',sheet_name=\"Run6\")\n",
    "run7=pd.read_excel('/Users/Clarisse/EPFL_MA1/Mechanobio/ME480-Project2/PartB/Dataset_PartB.xlsx',sheet_name=\"Run7\")\n",
    "run8=pd.read_excel('/Users/Clarisse/EPFL_MA1/Mechanobio/ME480-Project2/PartB/Dataset_PartB.xlsx',sheet_name=\"Run8\")\n",
    "\n",
    "run_times=[15,19,24,29,35,39,43,48]\n",
    "run_time_1=[run_times[0] for i in range (0,len(run1))]\n",
    "run_time_2=[run_times[1] for i in range (0,len(run2))]\n",
    "run_time_3=[run_times[2] for i in range (0,len(run3))]\n",
    "run_time_4=[run_times[3] for i in range (0,len(run4))]\n",
    "run_time_5=[run_times[4] for i in range (0,len(run5))]\n",
    "run_time_6=[run_times[5] for i in range (0,len(run6))]\n",
    "run_time_7=[run_times[6] for i in range (0,len(run7))]\n",
    "run_time_8=[run_times[7] for i in range (0,len(run8))]\n",
    "\n",
    "run1['run_time']=run_time_1\n",
    "run2['run_time']=run_time_2\n",
    "run3['run_time']=run_time_3\n",
    "run4['run_time']=run_time_4\n",
    "run5['run_time']=run_time_5\n",
    "run6['run_time']=run_time_6\n",
    "run7['run_time']=run_time_7\n",
    "run8['run_time']=run_time_8\n",
    "\n"
   ]
  },
  {
   "cell_type": "code",
   "execution_count": 12,
   "metadata": {},
   "outputs": [
    {
     "name": "stderr",
     "output_type": "stream",
     "text": [
      "/var/folders/g3/cmtrqyyx2g31_0nljjqrcp800000gn/T/ipykernel_37575/876809552.py:1: FutureWarning: The frame.append method is deprecated and will be removed from pandas in a future version. Use pandas.concat instead.\n",
      "  run_data=run1.append([run2,run3,run4,run5,run6,run7,run8])\n"
     ]
    }
   ],
   "source": [
    "run_data=run1.append([run2,run3,run4,run5,run6,run7,run8])\n",
    "run_data.to_csv('data/dataB.csv')"
   ]
  }
 ],
 "metadata": {
  "kernelspec": {
   "display_name": "ada",
   "language": "python",
   "name": "python3"
  },
  "language_info": {
   "codemirror_mode": {
    "name": "ipython",
    "version": 3
   },
   "file_extension": ".py",
   "mimetype": "text/x-python",
   "name": "python",
   "nbconvert_exporter": "python",
   "pygments_lexer": "ipython3",
   "version": "3.9.18"
  }
 },
 "nbformat": 4,
 "nbformat_minor": 2
}
